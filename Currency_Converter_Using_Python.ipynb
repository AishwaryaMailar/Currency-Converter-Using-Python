{
  "nbformat": 4,
  "nbformat_minor": 0,
  "metadata": {
    "colab": {
      "provenance": []
    },
    "kernelspec": {
      "name": "python3",
      "display_name": "Python 3"
    },
    "language_info": {
      "name": "python"
    }
  },
  "cells": [
    {
      "cell_type": "markdown",
      "source": [
        "Q5. Currency Converter using Python\n",
        " Problem Statement: Convert amounts between different currencies using real-time exchange\n",
        " rates.\n",
        " Steps to Build:\n",
        " 1. Libraries: requests\n",
        " 2. Steps:\n",
        " ○ UseanAPIlike ExchangeRate-API to get exchange rates.\n",
        " ○ Convert the amount based on user input and the fetched rates"
      ],
      "metadata": {
        "id": "HXGtHgFOna8f"
      }
    },
    {
      "cell_type": "code",
      "execution_count": null,
      "metadata": {
        "colab": {
          "base_uri": "https://localhost:8080/"
        },
        "id": "pc8DHaMQm-6g",
        "outputId": "389a00a0-028c-4e9f-9b42-5ea3b39463ed"
      },
      "outputs": [
        {
          "output_type": "stream",
          "name": "stdout",
          "text": [
            "Requirement already satisfied: requests in /usr/local/lib/python3.10/dist-packages (2.32.3)\n",
            "Requirement already satisfied: charset-normalizer<4,>=2 in /usr/local/lib/python3.10/dist-packages (from requests) (3.4.0)\n",
            "Requirement already satisfied: idna<4,>=2.5 in /usr/local/lib/python3.10/dist-packages (from requests) (3.10)\n",
            "Requirement already satisfied: urllib3<3,>=1.21.1 in /usr/local/lib/python3.10/dist-packages (from requests) (2.2.3)\n",
            "Requirement already satisfied: certifi>=2017.4.17 in /usr/local/lib/python3.10/dist-packages (from requests) (2024.8.30)\n"
          ]
        }
      ],
      "source": [
        "pip install requests"
      ]
    },
    {
      "cell_type": "code",
      "source": [
        "import requests\n",
        "\n",
        "def get_exchange_rate(base_currency, target_currency):\n",
        "    \"\"\"\n",
        "    Fetch the exchange rate between two currencies using an API.\n",
        "    \"\"\"\n",
        "    try:\n",
        "        # API endpoint (replace with your own API key)\n",
        "        api_url = f\"{base_currency}\"\n",
        "        api_url =\" https://v6.exchangerate-api.com/v6/ee8b790626a807bbda20d021/latest/USD\"\n",
        "        response = requests.get(api_url)\n",
        "        data = response.json()\n",
        "\n",
        "        if response.status_code == 200:\n",
        "            # Extract the exchange rate\n",
        "            rate = data['conversion_rates'].get(target_currency)\n",
        "            if rate:\n",
        "                return rate\n",
        "            else:\n",
        "                print(f\"Invalid target currency: {target_currency}\")\n",
        "                return None\n",
        "        else:\n",
        "            print(\"Error fetching exchange rates. Check your API key or base currency.\")\n",
        "            return None\n",
        "    except Exception as e:\n",
        "        print(f\"An error occurred: {e}\")\n",
        "        return None\n",
        "\n",
        "def convert_currency(amount, base_currency, target_currency):\n",
        "    \"\"\"\n",
        "    Convert the given amount from base_currency to target_currency.\n",
        "    \"\"\"\n",
        "    rate = get_exchange_rate(base_currency, target_currency)\n",
        "    if rate:\n",
        "        converted_amount = amount * rate\n",
        "        return converted_amount\n",
        "    else:\n",
        "        return None\n",
        "\n",
        "def main():\n",
        "    print(\"Welcome to the Currency Converter!\")\n",
        "\n",
        "    # User input\n",
        "    base_currency = input(\"Enter the base currency (e.g., USD): \").upper()\n",
        "    target_currency = input(\"Enter the target currency (e.g., EUR): \").upper()\n",
        "\n",
        "    try:\n",
        "        amount = float(input(\"Enter the amount to convert: \"))\n",
        "        converted_amount = convert_currency(amount, base_currency, target_currency)\n",
        "\n",
        "        if converted_amount is not None:\n",
        "            print(f\"{amount} {base_currency} = {converted_amount:.2f} {target_currency}\")\n",
        "        else:\n",
        "            print(\"Conversion failed. Please try again.\")\n",
        "    except ValueError:\n",
        "        print(\"Invalid amount. Please enter a numeric value.\")\n",
        "\n",
        "if __name__ == \"__main__\":\n",
        "    main()"
      ],
      "metadata": {
        "id": "IMX1-eVcnjoL",
        "colab": {
          "base_uri": "https://localhost:8080/"
        },
        "outputId": "040c8c5e-d313-418e-bb19-a22922a6cc42"
      },
      "execution_count": null,
      "outputs": [
        {
          "output_type": "stream",
          "name": "stdout",
          "text": [
            "Welcome to the Currency Converter!\n",
            "Enter the base currency (e.g., USD): USD\n",
            "Enter the target currency (e.g., EUR): EUR\n",
            "Enter the amount to convert: 100\n",
            "100.0 USD = 94.60 EUR\n"
          ]
        }
      ]
    }
  ]
}